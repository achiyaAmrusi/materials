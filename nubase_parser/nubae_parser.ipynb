{
 "cells": [
  {
   "cell_type": "code",
   "execution_count": null,
   "id": "e2538a92-3221-4db6-a712-f46a5e64f6dc",
   "metadata": {},
   "outputs": [],
   "source": [
    "import pandas as pd\n",
    "import numpy as np\n",
    "import re\n",
    "from scipy.constants import milli, day, year, nano, micro, pico,minute, hour, atto, zepto, giga,mega, tera, yotta, femto, kilo, peta, exa, zetta\n",
    "from scipy.constants import m_p, m_n, u, kilo, eV, c"
   ]
  },
  {
   "cell_type": "markdown",
   "id": "df1713ce-e034-4227-9b78-3cf45db74277",
   "metadata": {},
   "source": [
    "isotopes parser"
   ]
  },
  {
   "cell_type": "code",
   "execution_count": 25,
   "id": "c05bdbcc-574e-48a7-8472-2c01373d5ebf",
   "metadata": {},
   "outputs": [],
   "source": [
    "def parse_nubase_line(line):\n",
    "    # Extract fixed-width fields\n",
    "    ZZZi = line[4:8].strip()\n",
    "    AAA = line[0:3].strip()\n",
    "    raw_element = line[11:16].strip()\n",
    "    isomer_flag = line[16:17].strip()\n",
    "    mass_excess = line[18:31].strip() # excess from A*u\n",
    "    half_life = line[69:78].strip()\n",
    "    half_life_unit = line[78:80].strip()  # Half-life unit\n",
    "    spin_parity = line[88:102].strip()\n",
    "    br_field = line[119:209].strip()\n",
    "\n",
    "    # Separate mass number and symbol\n",
    "    match = re.match(r\"(\\d+)([A-Za-z]+)\", raw_element)\n",
    "    if match:\n",
    "        mass_number = int(match.group(1))\n",
    "        symbol = match.group(2)\n",
    "    else:\n",
    "        mass_number = None\n",
    "        symbol = raw_element  # fallback\n",
    "\n",
    "    formatted_name = f\"{symbol}{mass_number}\"\n",
    "\n",
    "\n",
    "    # Compute ZAID\n",
    "    try:\n",
    "        Z = int(ZZZi[:3])\n",
    "        A = int(AAA)\n",
    "        zaid = Z * 1000 + A\n",
    "    except ValueError:\n",
    "        return None  # skip malformed lines\n",
    "    \n",
    "    isomer_suffix_map = {\n",
    "        \"m\": \"1\",  # isomer\n",
    "        \"n\": \"2\",  # isomer\n",
    "        \"p\": \"3\",  # excited level\n",
    "        \"q\": \"4\",  # excited level\n",
    "        \"r\": \"5\",  # resonance\n",
    "        \"i\": \"6\",  # IAS\n",
    "        \"j\": \"7\"   # IAS\n",
    "    }    \n",
    "    suffix = isomer_suffix_map.get(isomer_flag)\n",
    "    if suffix:\n",
    "        zaid = int(f\"{zaid}{suffix}\")\n",
    "        formatted_name += isomer_flag\n",
    "\n",
    "\n",
    "\n",
    "    # Clean mass and half-life\n",
    "    try:\n",
    "        mass_excess = float(mass_excess.replace('#', '').replace('*', ''))\n",
    "    except ValueError:\n",
    "        mass_excess = 0\n",
    "\n",
    "   # Parse half-life value\n",
    "    hl_raw = half_life.lower()\n",
    "    if hl_raw.startswith(\"stbl\"):\n",
    "        hl_val = float(\"inf\")\n",
    "    elif hl_raw.startswith(\"p-unst\"):\n",
    "        hl_val = 0.0\n",
    "    else:\n",
    "        try:\n",
    "            hl_val = float(hl_raw.replace('#', '').replace('*', ''))\n",
    "        except ValueError:\n",
    "            hl_val = None\n",
    "\n",
    "    # Convert half-life to seconds\n",
    "\n",
    "   # Convert half-life to seconds\n",
    "    unit_map = {\n",
    "        \"ms\": milli, \"us\": micro, \"ns\": nano, \"ps\": pico,\n",
    "        \"s\": 1, \"m\": minute, \"h\": hour, \"d\": day, \"y\": year,\n",
    "        \"ys\": year,  # years    \n",
    "        # Rare and extended units\n",
    "        \"as\": atto,     # attoseconds\n",
    "        \"zs\": zepto,     # zeptoseconds\n",
    "        \"fs\": femto,     # femtoseconds\n",
    "        \"ky\": kilo*year,  # kiloyears\n",
    "        \"my\": mega*year,  # megayears\n",
    "        \"gy\": giga*year,  # gigayears\n",
    "        \"ty\": tera*year,  # terayears\n",
    "        \"py\": peta*year,  # petayears\n",
    "        \"ey\": exa*year,  # exayears\n",
    "        \"zy\": zetta*year,  # zettayears\n",
    "        \"yy\": yotta*year   # yottayears\n",
    "\n",
    "    }\n",
    "    half_life_unit_clean = half_life_unit.lower()\n",
    "    unit_factor = unit_map.get(half_life_unit_clean)\n",
    "\n",
    "    if unit_factor is None and half_life_unit_clean:\n",
    "        print(f\"Unrecognized unit for ZAID {zaid}: '{half_life_unit_clean}'\")\n",
    "\n",
    "\n",
    "    if hl_val is None or unit_factor is None or hl_val == 0.0:\n",
    "        hl_seconds = None\n",
    "    else:\n",
    "        hl_seconds = hl_val * unit_factor\n",
    "\n",
    "    # Compute decay constant safely\n",
    "    if hl_seconds is None:\n",
    "        decay = None\n",
    "    else:\n",
    "        decay = hl_seconds / np.log(2)\n",
    "\n",
    "    abundance = None\n",
    "    if \"IS=\" in br_field:\n",
    "        try:\n",
    "            abundance_str = br_field.split(\"IS=\")[1].split()[0]\n",
    "            abundance = float(abundance_str)\n",
    "        except (IndexError, ValueError):\n",
    "            abundance = 0\n",
    "    return {\n",
    "        \"Z\": Z,\n",
    "        \"A\": A,\n",
    "        \"ZAID\": zaid,\n",
    "        \"symbol\": formatted_name,\n",
    "        \"mass\": A + mass_excess*kilo*eV/c**2/u ,\n",
    "        \"decay\": decay,\n",
    "        \"abundance\": abundance,\n",
    "    }"
   ]
  },
  {
   "cell_type": "code",
   "execution_count": 26,
   "id": "df8ed334-b60d-496f-b18c-20a21eb0122f",
   "metadata": {},
   "outputs": [],
   "source": [
    "# Load and parse\n",
    "with open(\"./nubase_4.mas20.txt\", \"r\", encoding=\"utf-8\") as f:\n",
    "    lines = f.readlines()\n",
    "\n",
    "# Skip headers and parse valid lines\n",
    "data_lines = [line for line in lines if line.strip() and not line.startswith(\"#\")]\n",
    "parsed = [parse_nubase_line(line) for line in data_lines]\n",
    "parsed = [row for row in parsed if row is not None]\n",
    "\n",
    "# Create DataFrame\n",
    "df = pd.DataFrame(parsed)"
   ]
  },
  {
   "cell_type": "code",
   "execution_count": 27,
   "id": "420a7d92-7bce-477e-800c-38ae8b422eb7",
   "metadata": {},
   "outputs": [],
   "source": [
    "df = df.sort_values(by=[\"Z\", \"A\"]).reset_index(drop=True)"
   ]
  },
  {
   "cell_type": "code",
   "execution_count": 28,
   "id": "7b450eae-d0d0-4f95-b2f3-1fb78d1335cd",
   "metadata": {},
   "outputs": [],
   "source": [
    "df.to_csv(\"nubase2020.csv\", index=False)"
   ]
  },
  {
   "cell_type": "code",
   "execution_count": 30,
   "id": "99ad794a-079f-412e-bba2-88921649062f",
   "metadata": {},
   "outputs": [
    {
     "data": {
      "text/html": [
       "<div>\n",
       "<style scoped>\n",
       "    .dataframe tbody tr th:only-of-type {\n",
       "        vertical-align: middle;\n",
       "    }\n",
       "\n",
       "    .dataframe tbody tr th {\n",
       "        vertical-align: top;\n",
       "    }\n",
       "\n",
       "    .dataframe thead th {\n",
       "        text-align: right;\n",
       "    }\n",
       "</style>\n",
       "<table border=\"1\" class=\"dataframe\">\n",
       "  <thead>\n",
       "    <tr style=\"text-align: right;\">\n",
       "      <th></th>\n",
       "      <th>Z</th>\n",
       "      <th>A</th>\n",
       "      <th>ZAID</th>\n",
       "      <th>symbol</th>\n",
       "      <th>mass</th>\n",
       "      <th>decay</th>\n",
       "      <th>abundance</th>\n",
       "    </tr>\n",
       "  </thead>\n",
       "  <tbody>\n",
       "    <tr>\n",
       "      <th>1</th>\n",
       "      <td>1</td>\n",
       "      <td>1</td>\n",
       "      <td>1001</td>\n",
       "      <td>H1</td>\n",
       "      <td>1.007825</td>\n",
       "      <td>NaN</td>\n",
       "      <td>99.9855</td>\n",
       "    </tr>\n",
       "  </tbody>\n",
       "</table>\n",
       "</div>"
      ],
      "text/plain": [
       "   Z  A  ZAID symbol      mass  decay  abundance\n",
       "1  1  1  1001     H1  1.007825    NaN    99.9855"
      ]
     },
     "execution_count": 30,
     "metadata": {},
     "output_type": "execute_result"
    }
   ],
   "source": [
    "df[df.symbol==\"H1\"]"
   ]
  },
  {
   "cell_type": "markdown",
   "id": "511c1567-b60a-4290-b5cb-227a3c8db6c8",
   "metadata": {},
   "source": [
    "elements parser"
   ]
  },
  {
   "cell_type": "code",
   "execution_count": 47,
   "id": "d1610a53-8afc-4529-ad5c-0fffacdae846",
   "metadata": {},
   "outputs": [],
   "source": [
    "# Load and parse\n",
    "with open(\"./nubase_4.mas20.txt\", \"r\", encoding=\"utf-8\") as f:\n",
    "    lines = f.readlines()\n",
    "elements = []\n",
    "\n",
    "# Skip headers and parse valid lines\n",
    "data_lines = [line for line in lines if line.strip() and not line.startswith(\"#\")]\n",
    "parsed = [parse_nubase_line(line) for line in data_lines]\n",
    "parsed = [row for row in parsed if row is not None]\n",
    "\n",
    "elements = []\n",
    "seen = set()\n",
    "\n",
    "for parsed_line in parsed:\n",
    "    if parsed_line['symbol'] == 'n1':\n",
    "        continue\n",
    "\n",
    "    element_symb = re.sub(r'\\d+', '', parsed_line['symbol'])\n",
    "\n",
    "    # Only add if not seen before\n",
    "    if element_symb not in seen:\n",
    "        elements.append((element_symb, parsed_line['Z']))\n",
    "        seen.add(element_symb)\n",
    "\n",
    "# Create DataFrame\n",
    "df = pd.DataFrame(elements, columns=['element', 'Z'])"
   ]
  },
  {
   "cell_type": "code",
   "execution_count": 49,
   "id": "69202b65-3c33-49a7-ab61-24f88c69ac3e",
   "metadata": {},
   "outputs": [],
   "source": [
    "df.to_csv(\"elements.csv\", index=False)"
   ]
  },
  {
   "cell_type": "code",
   "execution_count": 54,
   "id": "2e0e7450-3205-4e6c-847e-4851add0d2b5",
   "metadata": {},
   "outputs": [
    {
     "data": {
      "text/plain": [
       "True"
      ]
     },
     "execution_count": 54,
     "metadata": {},
     "output_type": "execute_result"
    }
   ],
   "source": [
    "df[df.element=='Cu'].Z.item() == 29"
   ]
  },
  {
   "cell_type": "code",
   "execution_count": null,
   "id": "ee118fce-7bc5-4d10-9902-11a66dc993bf",
   "metadata": {},
   "outputs": [],
   "source": []
  }
 ],
 "metadata": {
  "kernelspec": {
   "display_name": "Python 3 (ipykernel)",
   "language": "python",
   "name": "python3"
  },
  "language_info": {
   "codemirror_mode": {
    "name": "ipython",
    "version": 3
   },
   "file_extension": ".py",
   "mimetype": "text/x-python",
   "name": "python",
   "nbconvert_exporter": "python",
   "pygments_lexer": "ipython3",
   "version": "3.12.7"
  }
 },
 "nbformat": 4,
 "nbformat_minor": 5
}
