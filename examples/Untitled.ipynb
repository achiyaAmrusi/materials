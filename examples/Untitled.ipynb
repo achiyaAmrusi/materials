{
 "cells": [
  {
   "cell_type": "code",
   "execution_count": 1,
   "id": "90793423-baec-4ddd-94fb-70d95cde6d4a",
   "metadata": {
    "scrolled": true
   },
   "outputs": [],
   "source": [
    "from materials.isotopes import H, O, Co60, He, He4\n",
    "from materials import Material\n",
    "from scipy.constants import year \n",
    "import numpy as np\n",
    "import xarray as xr"
   ]
  },
  {
   "cell_type": "markdown",
   "id": "7eb6fec7-79f9-497e-99eb-01f61f48ed0d",
   "metadata": {},
   "source": [
    "isotopes"
   ]
  },
  {
   "cell_type": "code",
   "execution_count": 9,
   "id": "e3444735-f2ad-450c-b856-44715f02c850",
   "metadata": {},
   "outputs": [
    {
     "data": {
      "text/plain": [
       "(Co60, 239831993.9290631, 59.93381557667405, 27, 60)"
      ]
     },
     "execution_count": 9,
     "metadata": {},
     "output_type": "execute_result"
    }
   ],
   "source": [
    "Co60, Co60.decay, Co60.mass, Co60.Z, Co60.A"
   ]
  },
  {
   "cell_type": "code",
   "execution_count": 10,
   "id": "1e8776d9-b54a-4e19-b49f-e5305356fb69",
   "metadata": {},
   "outputs": [
    {
     "data": {
      "text/plain": [
       "{H1: 99.9855, H2: 0.0145}"
      ]
     },
     "execution_count": 10,
     "metadata": {},
     "output_type": "execute_result"
    }
   ],
   "source": [
    "H.abundance"
   ]
  },
  {
   "cell_type": "markdown",
   "id": "e32a911a-beee-49f2-a435-947c2f05f1ef",
   "metadata": {},
   "source": [
    "Materials"
   ]
  },
  {
   "cell_type": "code",
   "execution_count": 19,
   "id": "4cc11054-a066-4355-be47-821da6ed9e9e",
   "metadata": {},
   "outputs": [],
   "source": [
    "water_atomic = Material('water', composition={H:2, O:1}, fraction_type='atomic', density=1)"
   ]
  },
  {
   "cell_type": "code",
   "execution_count": 20,
   "id": "9bd04e97-d44e-4e87-83cc-00893b509663",
   "metadata": {},
   "outputs": [
    {
     "data": {
      "text/plain": [
       "<Material name=water, density=1 g/cm^3, composition={H:0.667, O:0.333} [atomic]>"
      ]
     },
     "execution_count": 20,
     "metadata": {},
     "output_type": "execute_result"
    }
   ],
   "source": [
    "water_atomic"
   ]
  },
  {
   "cell_type": "code",
   "execution_count": 21,
   "id": "3965a036-fd17-4d58-95e2-0e4ef86fe971",
   "metadata": {},
   "outputs": [
    {
     "data": {
      "text/plain": [
       "<Material name=water, density=1.0 g/cm^3, composition={H:0.112, O:0.888} [mass]>"
      ]
     },
     "execution_count": 21,
     "metadata": {},
     "output_type": "execute_result"
    }
   ],
   "source": [
    "water_mass = a.update_fraction_type('mass')\n",
    "water_mass"
   ]
  },
  {
   "cell_type": "markdown",
   "id": "80567974-9a9e-422b-9d8a-aa208d6f490e",
   "metadata": {},
   "source": [
    "There is similar thing in curie but it has more data"
   ]
  },
  {
   "cell_type": "code",
   "execution_count": 23,
   "id": "ca580bcb-b7d9-446c-af70-5a6fb1eb3f21",
   "metadata": {},
   "outputs": [],
   "source": [
    "import curie as ci\n",
    "lead = ci.Compound(compound='lead', weights={'Pb':1}, density=1)\n",
    "co60 = ci.Isotope('Co-60')"
   ]
  },
  {
   "cell_type": "code",
   "execution_count": 26,
   "id": "4b3889f4-cce3-4e89-b218-f4edda293e28",
   "metadata": {},
   "outputs": [
    {
     "data": {
      "text/html": [
       "<div>\n",
       "<style scoped>\n",
       "    .dataframe tbody tr th:only-of-type {\n",
       "        vertical-align: middle;\n",
       "    }\n",
       "\n",
       "    .dataframe tbody tr th {\n",
       "        vertical-align: top;\n",
       "    }\n",
       "\n",
       "    .dataframe thead th {\n",
       "        text-align: right;\n",
       "    }\n",
       "</style>\n",
       "<table border=\"1\" class=\"dataframe\">\n",
       "  <thead>\n",
       "    <tr style=\"text-align: right;\">\n",
       "      <th></th>\n",
       "      <th>energy</th>\n",
       "      <th>intensity</th>\n",
       "      <th>unc_intensity</th>\n",
       "    </tr>\n",
       "  </thead>\n",
       "  <tbody>\n",
       "    <tr>\n",
       "      <th>0</th>\n",
       "      <td>347.140</td>\n",
       "      <td>0.007500</td>\n",
       "      <td>4.000000e-04</td>\n",
       "    </tr>\n",
       "    <tr>\n",
       "      <th>1</th>\n",
       "      <td>826.100</td>\n",
       "      <td>0.007600</td>\n",
       "      <td>8.000000e-04</td>\n",
       "    </tr>\n",
       "    <tr>\n",
       "      <th>2</th>\n",
       "      <td>1173.228</td>\n",
       "      <td>99.850000</td>\n",
       "      <td>3.000000e-02</td>\n",
       "    </tr>\n",
       "    <tr>\n",
       "      <th>3</th>\n",
       "      <td>1332.492</td>\n",
       "      <td>99.982600</td>\n",
       "      <td>6.000000e-04</td>\n",
       "    </tr>\n",
       "    <tr>\n",
       "      <th>4</th>\n",
       "      <td>2158.570</td>\n",
       "      <td>0.001200</td>\n",
       "      <td>2.000000e-04</td>\n",
       "    </tr>\n",
       "    <tr>\n",
       "      <th>5</th>\n",
       "      <td>2505.692</td>\n",
       "      <td>0.000002</td>\n",
       "      <td>4.000000e-07</td>\n",
       "    </tr>\n",
       "  </tbody>\n",
       "</table>\n",
       "</div>"
      ],
      "text/plain": [
       "     energy  intensity  unc_intensity\n",
       "0   347.140   0.007500   4.000000e-04\n",
       "1   826.100   0.007600   8.000000e-04\n",
       "2  1173.228  99.850000   3.000000e-02\n",
       "3  1332.492  99.982600   6.000000e-04\n",
       "4  2158.570   0.001200   2.000000e-04\n",
       "5  2505.692   0.000002   4.000000e-07"
      ]
     },
     "execution_count": 26,
     "metadata": {},
     "output_type": "execute_result"
    }
   ],
   "source": [
    "co60.gammas()"
   ]
  },
  {
   "cell_type": "code",
   "execution_count": 28,
   "id": "3937ed2e-abd9-4f8d-9d24-7dd3703e1dc7",
   "metadata": {},
   "outputs": [
    {
     "data": {
      "text/html": [
       "<div>\n",
       "<style scoped>\n",
       "    .dataframe tbody tr th:only-of-type {\n",
       "        vertical-align: middle;\n",
       "    }\n",
       "\n",
       "    .dataframe tbody tr th {\n",
       "        vertical-align: top;\n",
       "    }\n",
       "\n",
       "    .dataframe thead th {\n",
       "        text-align: right;\n",
       "    }\n",
       "</style>\n",
       "<table border=\"1\" class=\"dataframe\">\n",
       "  <thead>\n",
       "    <tr style=\"text-align: right;\">\n",
       "      <th></th>\n",
       "      <th>mean_energy</th>\n",
       "      <th>endpoint_energy</th>\n",
       "      <th>intensity</th>\n",
       "      <th>unc_intensity</th>\n",
       "    </tr>\n",
       "  </thead>\n",
       "  <tbody>\n",
       "    <tr>\n",
       "      <th>0</th>\n",
       "      <td>95.77</td>\n",
       "      <td>317.05</td>\n",
       "      <td>99.88</td>\n",
       "      <td>0.03</td>\n",
       "    </tr>\n",
       "    <tr>\n",
       "      <th>1</th>\n",
       "      <td>625.87</td>\n",
       "      <td>1490.29</td>\n",
       "      <td>0.12</td>\n",
       "      <td>0.03</td>\n",
       "    </tr>\n",
       "  </tbody>\n",
       "</table>\n",
       "</div>"
      ],
      "text/plain": [
       "   mean_energy  endpoint_energy  intensity  unc_intensity\n",
       "0        95.77           317.05      99.88           0.03\n",
       "1       625.87          1490.29       0.12           0.03"
      ]
     },
     "execution_count": 28,
     "metadata": {},
     "output_type": "execute_result"
    }
   ],
   "source": [
    "co60.beta_minus()"
   ]
  },
  {
   "cell_type": "code",
   "execution_count": 24,
   "id": "2399a8b4-6ccf-4e95-aa24-0e8cad5dd868",
   "metadata": {},
   "outputs": [
    {
     "data": {
      "text/plain": [
       "[<matplotlib.lines.Line2D at 0x175ab32d040>]"
      ]
     },
     "execution_count": 24,
     "metadata": {},
     "output_type": "execute_result"
    },
    {
     "data": {
      "image/png": "[encoded data removed]",
      "text/plain": [
       "<Figure size 640x480 with 1 Axes>"
      ]
     },
     "metadata": {},
     "output_type": "display_data"
    }
   ],
   "source": [
    "xr.DataArray(lead.mu(np.linspace(1,1e6,int(1e6))), coords={'energy': np.linspace(1,1e6,int(1e6))}).plot(yscale='log', xscale='log')"
   ]
  },
  {
   "cell_type": "code",
   "execution_count": null,
   "id": "debc9094-bc8e-49f4-8496-1c091799b483",
   "metadata": {},
   "outputs": [],
   "source": []
  }
 ],
 "metadata": {
  "kernelspec": {
   "display_name": "Python 3 (ipykernel)",
   "language": "python",
   "name": "python3"
  },
  "language_info": {
   "codemirror_mode": {
    "name": "ipython",
    "version": 3
   },
   "file_extension": ".py",
   "mimetype": "text/x-python",
   "name": "python",
   "nbconvert_exporter": "python",
   "pygments_lexer": "ipython3",
   "version": "3.12.7"
  }
 },
 "nbformat": 4,
 "nbformat_minor": 5
}
