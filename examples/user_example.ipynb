{
 "cells": [
  {
   "cell_type": "code",
   "execution_count": 1,
   "id": "90793423-baec-4ddd-94fb-70d95cde6d4a",
   "metadata": {
    "scrolled": true
   },
   "outputs": [],
   "source": [
    "from materials.isotopes import H, O, Co60, He, He4\n",
    "from materials import Material\n",
    "from scipy.constants import year \n",
    "import numpy as np\n",
    "import xarray as xr"
   ]
  },
  {
   "cell_type": "markdown",
   "id": "7eb6fec7-79f9-497e-99eb-01f61f48ed0d",
   "metadata": {},
   "source": [
    "isotopes"
   ]
  },
  {
   "cell_type": "code",
   "execution_count": 9,
   "id": "e3444735-f2ad-450c-b856-44715f02c850",
   "metadata": {},
   "outputs": [
    {
     "data": {
      "text/plain": [
       "(Co60, 239831993.9290631, 59.93381557667405, 27, 60)"
      ]
     },
     "execution_count": 9,
     "metadata": {},
     "output_type": "execute_result"
    }
   ],
   "source": [
    "Co60, Co60.decay, Co60.mass, Co60.Z, Co60.A"
   ]
  },
  {
   "cell_type": "code",
   "execution_count": 10,
   "id": "1e8776d9-b54a-4e19-b49f-e5305356fb69",
   "metadata": {},
   "outputs": [
    {
     "data": {
      "text/plain": [
       "{H1: 99.9855, H2: 0.0145}"
      ]
     },
     "execution_count": 10,
     "metadata": {},
     "output_type": "execute_result"
    }
   ],
   "source": [
    "H.abundance"
   ]
  },
  {
   "cell_type": "markdown",
   "id": "e32a911a-beee-49f2-a435-947c2f05f1ef",
   "metadata": {},
   "source": [
    "Materials"
   ]
  },
  {
   "cell_type": "code",
   "execution_count": 19,
   "id": "4cc11054-a066-4355-be47-821da6ed9e9e",
   "metadata": {},
   "outputs": [],
   "source": [
    "water_atomic = Material('water', composition={H:2, O:1}, fraction_type='atomic', density=1)"
   ]
  },
  {
   "cell_type": "code",
   "execution_count": 20,
   "id": "9bd04e97-d44e-4e87-83cc-00893b509663",
   "metadata": {},
   "outputs": [
    {
     "data": {
      "text/plain": [
       "<Material name=water, density=1 g/cm^3, composition={H:0.667, O:0.333} [atomic]>"
      ]
     },
     "execution_count": 20,
     "metadata": {},
     "output_type": "execute_result"
    }
   ],
   "source": [
    "water_atomic"
   ]
  },
  {
   "cell_type": "code",
   "execution_count": 21,
   "id": "3965a036-fd17-4d58-95e2-0e4ef86fe971",
   "metadata": {},
   "outputs": [
    {
     "data": {
      "text/plain": [
       "<Material name=water, density=1.0 g/cm^3, composition={H:0.112, O:0.888} [mass]>"
      ]
     },
     "execution_count": 21,
     "metadata": {},
     "output_type": "execute_result"
    }
   ],
   "source": [
    "water_mass = a.update_fraction_type('mass')\n",
    "water_mass"
   ]
  },
  {
   "cell_type": "markdown",
   "id": "80567974-9a9e-422b-9d8a-aa208d6f490e",
   "metadata": {},
   "source": [
    "There is similar thing in curie but it has more data"
   ]
  },
  {
   "cell_type": "code",
   "execution_count": null,
   "id": "debc9094-bc8e-49f4-8496-1c091799b483",
   "metadata": {},
   "outputs": [],
   "source": []
  }
 ],
 "metadata": {
  "kernelspec": {
   "display_name": "Python 3 (ipykernel)",
   "language": "python",
   "name": "python3"
  },
  "language_info": {
   "codemirror_mode": {
    "name": "ipython",
    "version": 3
   },
   "file_extension": ".py",
   "mimetype": "text/x-python",
   "name": "python",
   "nbconvert_exporter": "python",
   "pygments_lexer": "ipython3",
   "version": "3.12.7"
  }
 },
 "nbformat": 4,
 "nbformat_minor": 5
}
